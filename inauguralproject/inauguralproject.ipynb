{
 "cells": [
  {
   "cell_type": "markdown",
   "metadata": {},
   "source": [
    "# Inaugural Project"
   ]
  },
  {
   "cell_type": "markdown",
   "metadata": {},
   "source": [
    "> **Note the following:** \n",
    "> 1. This is an example of how to structure your **inaugural project**.\n",
    "> 1. Remember the general advice on structuring and commenting your code from [lecture 5](https://numeconcopenhagen.netlify.com/lectures/Workflow_and_debugging).\n",
    "> 1. Remember this [guide](https://www.markdownguide.org/basic-syntax/) on markdown and (a bit of) latex.\n",
    "> 1. Turn on automatic numbering by clicking on the small icon on top of the table of contents in the left sidebar.\n",
    "> 1. The `inauguralproject.py` file includes a function which can be used multiple times in this notebook *IGEN TEST!*.\n"
   ]
  },
  {
   "cell_type": "markdown",
   "metadata": {},
   "source": [
    "Imports and set magics:"
   ]
  },
  {
   "cell_type": "code",
   "execution_count": 1,
   "metadata": {},
   "outputs": [],
   "source": [
    "# Packages \n",
    "import scipy.optimize as optimize\n",
    "import math as math\n",
    "import numpy as np \n",
    "import matplotlib.pyplot as plt"
   ]
  },
  {
   "cell_type": "markdown",
   "metadata": {
    "toc-hr-collapsed": true
   },
   "source": [
    "# Question 1"
   ]
  },
  {
   "cell_type": "markdown",
   "metadata": {},
   "source": [
    "BRIEFLY EXPLAIN HOW YOU SOLVE THE MODEL."
   ]
  },
  {
   "cell_type": "code",
   "execution_count": 2,
   "metadata": {},
   "outputs": [
    {
     "name": "stdout",
     "output_type": "stream",
     "text": [
      "[1 4 9]\n"
     ]
    }
   ],
   "source": [
    "# opgave 1: \n",
    "\n",
    "def obj_func(model, c, l):\n",
    "        \"\"\" Function solves a maximization labor supply problem in Inaugural Project\n",
    "    \n",
    "    Args:\n",
    "    \n",
    "        c (float): Consumption\n",
    "        l (float): labor supply\n",
    "        model (float): exogenous parameter values\n",
    "        \n",
    "    Returns:\n",
    "    \n",
    "        Obj_func (float): Optimal labor supply and consumpion given parameter values\n",
    "    \n",
    "    \"\"\"\n",
    "    return np.log(c)-model.v*(l**((1+1/model.epsilon))/(1+1/model.epsilon))\n",
    "\n",
    "def solve(model):\n",
    "    \n",
    "    \"\"\" Function sets up the contraint for the maximization of labor and consumption and their bounds \"\"\"\n",
    "    \n",
    "     # a. objective function (to minimize) x[0] is consumption and x[1] is labor  \n",
    "    obj = lambda x: -model.obj_func(x[0],x[1]) # minimize -> negtive of utility\n",
    "        \n",
    "    # b. constraints and bounds ( Note that c has been substituted for x since these are equal) \n",
    "    con = lambda x: x[0]-(model.m+model.w*x[1]-(model.t0*model.w*x[1]+model.t1*max(model.w*x[1]-model.k,0)))\n",
    "    constraints = ({'type':'eq','fun':con})\n",
    "    bounds = [(0,100),(0,1)]\n",
    "              \n",
    "    # c. call solver x0 is our initial guesses \n",
    "    x0 = [0.5,0.8]\n",
    "    sol = optimize.minimize(obj,x0,method='SLSQP',bounds=bounds,constraints=constraints)\n",
    "              \n",
    "    model.c = sol.x[0]\n",
    "    model.l = sol.x[1]\n",
    "    model.obj = model.obj_func(model.c,model.l)\n",
    "\n",
    "#a. definition af a  class that will contain all our exogenous parameters\n",
    "class ConsumerClass: \n",
    "    # i. Definition of a function that _init_ that will values of our exogenous parameters will be given\n",
    "    def __init__(self):\n",
    "        self.v = 10\n",
    "        self.epsilon = 0.3\n",
    "        self.m = 1\n",
    "        self.t0 = 0.4\n",
    "        self.t1 = 0.1\n",
    "        self.k = 0.4\n",
    "    #ii. including our objective functiona and solution in the class  \n",
    "    obj_func = obj_func\n",
    "    solve = solve\n",
    "\n",
    "#b. we deine a vriabele test where we execute our class:\n",
    "test = ConsumerClass()\n",
    "test.w = 1\n",
    "test.solve()\n",
    "print(f'(c,l) = ({test.c:.3f} , {test.l:.3f}) , u = {test.obj:.3f}')"
   ]
  },
  {
   "cell_type": "markdown",
   "metadata": {},
   "source": [
    "# Question 2"
   ]
  },
  {
   "cell_type": "markdown",
   "metadata": {},
   "source": [
    "ADD ANSWER."
   ]
  },
  {
   "cell_type": "code",
   "execution_count": 3,
   "metadata": {},
   "outputs": [],
   "source": [
    "# Opgave 2\n",
    "\n",
    "#a. define functions of w in the range 0.5 to 1.5. with the linspace function in the numpy package\n",
    "w_values = np.linspace(0.5,1.5,10)\n",
    "for w in w_values:\n",
    "    test.w = w\n",
    "    test.solve()\n",
    "    print(f'w = {w:.3f} -> (x1,x2) = ({test.c:.3f},{test.l:.3f}), u = {test.obj:.3f}')\n",
    "\n",
    "\n",
    "\n",
    "# b. Create Values for wage, labor and consumption in order to print result\n",
    "\n",
    "wage = np.array([0.5,0.611,0.722,0.833,0.944,1.056,1.167,1.278,1.389,1.500])\n",
    "consumption = np.array([1.102,1.131,1.162,1.193,1.225,1.245,1.272,1.299,1.327,1.355])\n",
    "labor = np.array([0.339,0.357,0.373,0.386,0.398,0.388,0.397,0.405,0.413,0.420])\n",
    "\n",
    "# c. plot of association between wage and consumption using the matplotlib.pyplot package\n",
    "  # i crease a figure\n",
    "fig = plt.figure() # create the figure\n",
    "ax = fig.add_subplot(1,1,1)\n",
    "  # ii plot age against consuption\n",
    "plt.plot(wage, consumption)\n",
    "  # create labels of axis and titel\n",
    "ax.set_xlabel('$Wage$')\n",
    "ax.set_ylabel('$Consumption$')\n",
    "ax.set_title('Dependency between wage and consumption')\n",
    "ax.grid(True)\n",
    "plt.show()\n",
    "\n",
    "\n",
    "# d. plot of association between wage and labor using the matplotlib.pyplot package\n",
    "  # i crease a figure\n",
    "fig = plt.figure() # create the figure\n",
    "  \n",
    "ax = fig.add_subplot(1,1,1)\n",
    "  # ii plot age against consuption\n",
    "ax.plot(wage, labor)\n",
    "   # create labels of axis and titel\n",
    "ax.set_xlabel('$wage$') # Label on axis \n",
    "ax.set_ylabel('$labor$')\n",
    "ax.set_title('Dependency between wage and labor') # Title \n",
    "ax.grid(True)\n",
    "plt.show()"
   ]
  },
  {
   "cell_type": "markdown",
   "metadata": {},
   "source": [
    "# Question 3"
   ]
  },
  {
   "cell_type": "markdown",
   "metadata": {},
   "source": [
    "ADD ANSWER."
   ]
  },
  {
   "cell_type": "code",
   "execution_count": 4,
   "metadata": {},
   "outputs": [],
   "source": [
    "## Opgave 3\n",
    "taxlist = []\n",
    "w_values = np.linspace(0.5,1.5,100)\n",
    "for w in w_values:\n",
    "    epsilon = test.epsilon\n",
    "    t0star=test.t0\n",
    "    t1star = test.t1\n",
    "    kstar=test.k\n",
    "    test.w = w\n",
    "    test.solve()\n",
    "    lstar= test.l\n",
    "    #taxrev=lstar*w\n",
    "    taxrev= t0star*w*lstar+t1star*max(w*lstar-kstar,0)\n",
    "    taxlist.append(taxrev)\n",
    "    print(f'w = {w:.3f} -> (x1,x2) = ({test.c:.3f},{test.l:.3f}), u = {test.obj:.3f}')\n",
    "totaltaxes = np.sum(taxlist)\n",
    "print(totaltaxes)\n"
   ]
  },
  {
   "cell_type": "markdown",
   "metadata": {},
   "source": [
    "# Question 4"
   ]
  },
  {
   "cell_type": "markdown",
   "metadata": {},
   "source": [
    "ADD ANSWER."
   ]
  },
  {
   "cell_type": "code",
   "execution_count": 5,
   "metadata": {},
   "outputs": [],
   "source": [
    "#opgave 4\n",
    "\n",
    "#definerer test1 som en ny consumerclass med ændrede værdier\n",
    "test1 = ConsumerClass()\n",
    "test1.w = 1\n",
    "test1.epsilon = 0.1\n",
    "test1.solve()\n",
    "print(f'(c,l) = ({test1.c:.3f} , {test1.l:.3f}) , u = {test1.obj:.3f}')\n",
    "\n",
    "\n",
    "taxlist2 = []\n",
    "w_values2 = np.linspace(0.5,1.5,100)\n",
    "for w in w_values:\n",
    "    epsilon = test1.epsilon\n",
    "    test1.w = w\n",
    "    test1.solve()\n",
    "    lstar= test1.l\n",
    "    #taxrev=lstar*w\n",
    "    taxrev2= t0star*w*lstar+t1star*max(w*lstar-kstar,0)\n",
    "    taxlist2.append(taxrev2)\n",
    "    print(f'w = {w:.3f} -> (x1,x2) = ({test.c:.3f},{test.l:.3f}), u = {test.obj:.3f}')\n",
    "totaltaxes2 = np.sum(taxlist2)\n",
    "print(totaltaxes2)"
   ]
  },
  {
   "cell_type": "markdown",
   "metadata": {},
   "source": [
    "# Question 5"
   ]
  },
  {
   "cell_type": "markdown",
   "metadata": {},
   "source": [
    "ADD ANSWER."
   ]
  },
  {
   "cell_type": "code",
   "execution_count": 6,
   "metadata": {},
   "outputs": [],
   "source": [
    "# code"
   ]
  },
  {
   "cell_type": "markdown",
   "metadata": {},
   "source": [
    "# Conclusion"
   ]
  },
  {
   "cell_type": "markdown",
   "metadata": {},
   "source": [
    "ADD CONCISE CONLUSION."
   ]
  }
 ],
 "metadata": {
  "kernelspec": {
   "display_name": "Python 3",
   "language": "python",
   "name": "python3"
  },
  "language_info": {
   "codemirror_mode": {
    "name": "ipython",
    "version": 3
   },
   "file_extension": ".py",
   "mimetype": "text/x-python",
   "name": "python",
   "nbconvert_exporter": "python",
   "pygments_lexer": "ipython3",
   "version": "3.7.4"
  },
  "toc-autonumbering": true
 },
 "nbformat": 4,
 "nbformat_minor": 4
}