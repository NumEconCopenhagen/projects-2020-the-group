{
 "cells": [
  {
   "cell_type": "markdown",
   "metadata": {},
   "source": [
    "# Modelproject - Cournot competition"
   ]
  },
  {
   "cell_type": "markdown",
   "metadata": {},
   "source": [
    "## Introduction\n",
    "In this project, we  find the optimal production quantity for each of two firms in a Cournot - competition. We compare the situation with two identical firms and two non-identical firms.\n",
    "\n",
    "### We apply following assumptions for the model:\n",
    "* There are two firms in the economy. In the first part they are identical, in the second part they are non-identical\n",
    "* The firms choose the output simultanously ($Q_1$ and $Q_2$)\n",
    "* The total quantity in the economy is $Q = Q_1 + Q_2$\n",
    "* The marketprice is decreasing in quantity produced $P(Q) = a - b*Q$\n",
    "* For identical firms: Both firms share equal marginal cost $0 \\leq c<a$, $ATC = MC = c$\n",
    "* For non-identical firms: The firms has different marginal cost: ($c_1$, $c_2$)\n",
    "\n",
    "In the end of the paper, we compare the outcomes for a market with identical firms vs non-identical firms"
   ]
  },
  {
   "cell_type": "code",
   "execution_count": 260,
   "metadata": {},
   "outputs": [],
   "source": [
    "# Importing packages\n",
    "from __future__ import print_function\n",
    "from ipywidgets import interact, interactive, fixed, interact_manual\n",
    "import ipywidgets as widgets\n",
    "import numpy as np\n",
    "import sympy as sm\n",
    "from IPython.display import display\n",
    "from sympy import simplify"
   ]
  },
  {
   "cell_type": "code",
   "execution_count": 261,
   "metadata": {},
   "outputs": [],
   "source": [
    "# Set symbols according to the equation\n",
    "q1, q2 = sm.symbols('Q_1 Q_2') # Quantity for each firm\n",
    "c = sm.symbols('c') # Marginal cost for bth firms on the identical-market\n",
    "c1, c2 = sm.symbols('c_1 c_2') # Marginal cost for each firm on the non-identical market\n",
    "a, b = sm.symbols('a b') # Constants"
   ]
  },
  {
   "cell_type": "markdown",
   "metadata": {},
   "source": [
    "# Two Identical Firms\n",
    "Define functions\n"
   ]
  },
  {
   "cell_type": "code",
   "execution_count": 262,
   "metadata": {},
   "outputs": [],
   "source": [
    "# We define p being the demand (price) on the market for two identical firms\n",
    "def p(q1, q2, b, a):\n",
    "    return a-b*q1-b*q2\n"
   ]
  },
  {
   "cell_type": "code",
   "execution_count": 263,
   "metadata": {},
   "outputs": [],
   "source": [
    "# Define the total cost functions for firms 1 and firm 2. \n",
    "def tc1(q1,c):\n",
    "    return c*q1\n",
    "\n",
    "def tc2(q2,c):\n",
    "    return c*q2"
   ]
  },
  {
   "cell_type": "code",
   "execution_count": 264,
   "metadata": {},
   "outputs": [],
   "source": [
    "# Define profits for firm 1 and firm 2\n",
    "def profit1(q1, p, tc1):\n",
    "    return q1*p(q1, q2, b, a)-tc1(q1,c)\n",
    "\n",
    "def profit2(q2, p, tc2):\n",
    "    return q2*p(q1, q2, b, a)-tc2(q2,c)"
   ]
  },
  {
   "cell_type": "markdown",
   "metadata": {},
   "source": [
    "To maximize profits for each firm, we differentiate the profit functions wrt. Q1 and Q2 respectively and find the first-order-conditions"
   ]
  },
  {
   "cell_type": "code",
   "execution_count": 265,
   "metadata": {},
   "outputs": [
    {
     "output_type": "stream",
     "name": "stdout",
     "text": "First order condition for firm 1:\n"
    },
    {
     "output_type": "display_data",
     "data": {
      "text/plain": "-2*Q_1*b - Q_2*b + a - c",
      "text/latex": "$\\displaystyle - 2 Q_{1} b - Q_{2} b + a - c$"
     },
     "metadata": {}
    },
    {
     "output_type": "stream",
     "name": "stdout",
     "text": "First order condition for firm 2:\n"
    },
    {
     "output_type": "display_data",
     "data": {
      "text/plain": "-Q_1*b - 2*Q_2*b + a - c",
      "text/latex": "$\\displaystyle - Q_{1} b - 2 Q_{2} b + a - c$"
     },
     "metadata": {}
    }
   ],
   "source": [
    "# Diff and define FOCs:\n",
    "print('First order condition for firm 1:')\n",
    "FOC1 = sm.diff(profit1(q1, p, tc1), q1)\n",
    "display(FOC1)\n",
    "\n",
    "print('First order condition for firm 2:')\n",
    "FOC2 = sm.diff(profit2(q2, p, tc2), q2)\n",
    "display(FOC2)"
   ]
  },
  {
   "cell_type": "markdown",
   "metadata": {},
   "source": [
    "To determine how each firm reacts (the choice of quantity) to the opposite firm's optimal quantity, we define the reactionfunctions"
   ]
  },
  {
   "cell_type": "code",
   "execution_count": 266,
   "metadata": {},
   "outputs": [
    {
     "output_type": "stream",
     "name": "stdout",
     "text": "Reaction function R(q1):\n"
    },
    {
     "output_type": "display_data",
     "data": {
      "text/plain": "(-Q_2*b + a - c)/(2*b)",
      "text/latex": "$\\displaystyle \\frac{- Q_{2} b + a - c}{2 b}$"
     },
     "metadata": {}
    },
    {
     "output_type": "stream",
     "name": "stdout",
     "text": "Reaction function R(q2):\n"
    },
    {
     "output_type": "display_data",
     "data": {
      "text/plain": "(-Q_1*b + a - c)/(2*b)",
      "text/latex": "$\\displaystyle \\frac{- Q_{1} b + a - c}{2 b}$"
     },
     "metadata": {}
    }
   ],
   "source": [
    "#Define reaction functions\n",
    "print('Reaction function R(q1):')\n",
    "R1 = sm.solve(FOC1,q1)\n",
    "q1_solve=(R1[0])\n",
    "display(q1_solve)\n",
    "\n",
    "print('Reaction function R(q2):')\n",
    "R2 = sm.solve(FOC2,q2)\n",
    "q2_solve=(R2[0])\n",
    "display(q2_solve)"
   ]
  },
  {
   "cell_type": "markdown",
   "metadata": {},
   "source": [
    "We solve for Q1, Q2 and find the total quantity of goods in the market:"
   ]
  },
  {
   "cell_type": "code",
   "execution_count": 267,
   "metadata": {},
   "outputs": [
    {
     "output_type": "stream",
     "name": "stdout",
     "text": "The equation with two unknowns (Q1 and Q2), we have to solve\n"
    },
    {
     "output_type": "display_data",
     "data": {
      "text/plain": "Eq((-Q_1*b + a - c)/(2*b) + (-Q_2*b + a - c)/(2*b), 0)",
      "text/latex": "$\\displaystyle \\frac{- Q_{1} b + a - c}{2 b} + \\frac{- Q_{2} b + a - c}{2 b} = 0$"
     },
     "metadata": {}
    },
    {
     "output_type": "stream",
     "name": "stdout",
     "text": "Optimal Quantity for firm 1:\n"
    },
    {
     "output_type": "display_data",
     "data": {
      "text/plain": "(a - c)/(3*b)",
      "text/latex": "$\\displaystyle \\frac{a - c}{3 b}$"
     },
     "metadata": {}
    },
    {
     "output_type": "stream",
     "name": "stdout",
     "text": "Optimal Quantity for firm 2:\n"
    },
    {
     "output_type": "display_data",
     "data": {
      "text/plain": "(a - c)/(3*b)",
      "text/latex": "$\\displaystyle \\frac{a - c}{3 b}$"
     },
     "metadata": {}
    },
    {
     "output_type": "stream",
     "name": "stdout",
     "text": "Total Quantity in the economy with two identical firms:\n"
    },
    {
     "output_type": "display_data",
     "data": {
      "text/plain": "2*(a - c)/(3*b)",
      "text/latex": "$\\displaystyle \\frac{2 \\left(a - c\\right)}{3 b}$"
     },
     "metadata": {}
    }
   ],
   "source": [
    "print('The equation with two unknowns (Q1 and Q2), we have to solve')\n",
    "q_all = sm.Eq((q1_solve + q2_solve))\n",
    "display(q_all)\n",
    "\n",
    "sol_dict = sm.solve((FOC1,FOC2), (q1, q2))\n",
    "\n",
    "print('Optimal Quantity for firm 1:')\n",
    "q1_optimal = sol_dict[q1]\n",
    "display(q1_optimal)\n",
    "\n",
    "print('Optimal Quantity for firm 2:')\n",
    "q2_optimal = sol_dict[q2]\n",
    "display(q2_optimal)\n",
    "\n",
    "print('Total Quantity in the economy with two identical firms:')\n",
    "q_total = q1_optimal + q2_optimal\n",
    "display(q_total)"
   ]
  },
  {
   "cell_type": "markdown",
   "metadata": {},
   "source": [
    "When total quantity (Q) is found, we can apply this to the demand (price)"
   ]
  },
  {
   "cell_type": "code",
   "execution_count": 268,
   "metadata": {},
   "outputs": [
    {
     "output_type": "stream",
     "name": "stdout",
     "text": "Optimal demand (price) in Cournot-competition for two identical firms:\n"
    },
    {
     "output_type": "display_data",
     "data": {
      "text/plain": "a/3 + 2*c/3",
      "text/latex": "$\\displaystyle \\frac{a}{3} + \\frac{2 c}{3}$"
     },
     "metadata": {}
    }
   ],
   "source": [
    "print('Optimal demand (price) in Cournot-competition for two identical firms:')\n",
    "p_opt = a-b*q_total\n",
    "display(p_opt)"
   ]
  },
  {
   "cell_type": "markdown",
   "metadata": {},
   "source": [
    "We find the profit for each firm and total profit in the economy by inserting optimal price, marginal cost and optimal quantity in the profit function"
   ]
  },
  {
   "cell_type": "code",
   "execution_count": 269,
   "metadata": {},
   "outputs": [
    {
     "output_type": "stream",
     "name": "stdout",
     "text": "Profit for firm 1:\n"
    },
    {
     "output_type": "display_data",
     "data": {
      "text/plain": "(a - c)**2/(9*b)",
      "text/latex": "$\\displaystyle \\frac{\\left(a - c\\right)^{2}}{9 b}$"
     },
     "metadata": {}
    },
    {
     "output_type": "stream",
     "name": "stdout",
     "text": "Profit for firm 2:\n"
    },
    {
     "output_type": "display_data",
     "data": {
      "text/plain": "(a - c)**2/(9*b)",
      "text/latex": "$\\displaystyle \\frac{\\left(a - c\\right)^{2}}{9 b}$"
     },
     "metadata": {}
    },
    {
     "output_type": "stream",
     "name": "stdout",
     "text": "Total profit in the economy:\n"
    },
    {
     "output_type": "display_data",
     "data": {
      "text/plain": "2*(a - c)**2/(9*b)",
      "text/latex": "$\\displaystyle \\frac{2 \\left(a - c\\right)^{2}}{9 b}$"
     },
     "metadata": {}
    }
   ],
   "source": [
    "print('Profit for firm 1:')\n",
    "profit_1 = (p_opt-c)*q1_optimal\n",
    "display(sm.simplify(profit_1))\n",
    "\n",
    "print('Profit for firm 2:')\n",
    "profit_2 = (p_opt-c)*q2_optimal\n",
    "display(sm.simplify(profit_2))\n",
    "\n",
    "print('Total profit in the economy:')\n",
    "profit_total = profit_1 + profit_2\n",
    "display(sm.simplify(profit_total))"
   ]
  },
  {
   "cell_type": "markdown",
   "metadata": {},
   "source": [
    "Not surprisingly, the profits are equivalent for the identical firms. Now, what happens when the firms are not identical?"
   ]
  },
  {
   "cell_type": "markdown",
   "metadata": {},
   "source": [
    "# Two non-identical Firms\n",
    " Now, the two firms does not share the same level of costs (c). For this reason, we apply $c_1$ and $c_2$ for firm 1 and firm 2 respectively\n",
    "* Firm 1: $ATC1 = MC1 = c_1$\n",
    "* Firm 2: $ATC2 = MC2 = c_2$\n",
    "\n",
    "The demand function (P) and the reaction functions $R(Q_i)$ are equal to the ones found before with two identical firms.\n",
    "Therefore, we apply the same procedure"
   ]
  },
  {
   "cell_type": "code",
   "execution_count": 270,
   "metadata": {},
   "outputs": [],
   "source": [
    "# Define the total cost functions\n",
    "\n",
    "def tc1_non(q1,c1):\n",
    "    return c1*q1\n",
    "\n",
    "def tc2_non(q2,c1):\n",
    "    return c1*q2"
   ]
  },
  {
   "cell_type": "code",
   "execution_count": 271,
   "metadata": {},
   "outputs": [],
   "source": [
    "# Define the profit functions\n",
    "\n",
    "def profit1_non(q1, p, tc1):\n",
    "    return q1*p(q1, q2, b, a)-tc1(q1,c1)\n",
    "\n",
    "def profit2_non(q2, p, tc2):\n",
    "    return q2*p(q1, q2, b, a)-tc2(q2,c2)"
   ]
  },
  {
   "cell_type": "code",
   "execution_count": 272,
   "metadata": {},
   "outputs": [
    {
     "output_type": "stream",
     "name": "stdout",
     "text": "First order condition for firm_non 1:\n"
    },
    {
     "output_type": "display_data",
     "data": {
      "text/plain": "-2*Q_1*b - Q_2*b + a - c_1",
      "text/latex": "$\\displaystyle - 2 Q_{1} b - Q_{2} b + a - c_{1}$"
     },
     "metadata": {}
    },
    {
     "output_type": "stream",
     "name": "stdout",
     "text": "First order condition for firm_non 2:\n"
    },
    {
     "output_type": "display_data",
     "data": {
      "text/plain": "-Q_1*b - 2*Q_2*b + a - c_2",
      "text/latex": "$\\displaystyle - Q_{1} b - 2 Q_{2} b + a - c_{2}$"
     },
     "metadata": {}
    }
   ],
   "source": [
    "# To determine the optimal quantity produced for each firm, we first find the first-order-conditions (FOC)\n",
    "\n",
    "print('First order condition for firm_non 1:')\n",
    "FOC1_non = sm.diff(profit1_non(q1, p, tc1), q1)\n",
    "display(FOC1_non)\n",
    "\n",
    "print('First order condition for firm_non 2:')\n",
    "FOC2_non = sm.diff(profit2_non(q2, p, tc2), q2)\n",
    "display(FOC2_non)"
   ]
  },
  {
   "cell_type": "code",
   "execution_count": 273,
   "metadata": {},
   "outputs": [
    {
     "output_type": "stream",
     "name": "stdout",
     "text": "Reaction function R(q1) non-identical firms:\n"
    },
    {
     "output_type": "display_data",
     "data": {
      "text/plain": "(-Q_2*b + a - c_1)/(2*b)",
      "text/latex": "$\\displaystyle \\frac{- Q_{2} b + a - c_{1}}{2 b}$"
     },
     "metadata": {}
    },
    {
     "output_type": "stream",
     "name": "stdout",
     "text": "Reaction function R(q2) non-identical firms:\n"
    },
    {
     "output_type": "display_data",
     "data": {
      "text/plain": "(-Q_1*b + a - c_2)/(2*b)",
      "text/latex": "$\\displaystyle \\frac{- Q_{1} b + a - c_{2}}{2 b}$"
     },
     "metadata": {}
    },
    {
     "output_type": "stream",
     "name": "stdout",
     "text": "The equation for non-identical firms with two unknowns (Q1 and Q2), we have to solve:\n"
    },
    {
     "output_type": "display_data",
     "data": {
      "text/plain": "Eq((-Q_1*b - Q_2*b + 2*a - c_1 - c_2)/(2*b), 0)",
      "text/latex": "$\\displaystyle \\frac{- Q_{1} b - Q_{2} b + 2 a - c_{1} - c_{2}}{2 b} = 0$"
     },
     "metadata": {}
    }
   ],
   "source": [
    "# To determine how each firm reacts (the choice of quantity) to the opposite firm's optimal quantity, we define the reactionfunctions\n",
    "print('Reaction function R(q1) non-identical firms:')\n",
    "R1_non = sm.solve(FOC1_non,q1)\n",
    "q1_solve_non=(R1_non[0])\n",
    "display(q1_solve_non)\n",
    "\n",
    "print('Reaction function R(q2) non-identical firms:')\n",
    "R2_non = sm.solve(FOC2_non,q2)\n",
    "q2_solve_non=(R2_non[0])\n",
    "display(q2_solve_non)\n",
    "\n",
    "# As there are two firms on the market, we set these reaction functions equal to eachother\n",
    "\n",
    "print('The equation for non-identical firms with two unknowns (Q1 and Q2), we have to solve:')\n",
    "q_all_non = sm.Eq((q1_solve_non + q2_solve_non), 0)\n",
    "display(sm.simplify(q_all_non))"
   ]
  },
  {
   "cell_type": "markdown",
   "metadata": {},
   "source": [
    "Now we solve for Q1 and Q2 and find the total quantity of goods in the market:"
   ]
  },
  {
   "cell_type": "code",
   "execution_count": 274,
   "metadata": {},
   "outputs": [
    {
     "output_type": "stream",
     "name": "stdout",
     "text": "Optimal Quantity for firm 1:\n"
    },
    {
     "output_type": "display_data",
     "data": {
      "text/plain": "(a - 2*c_1 + c_2)/(3*b)",
      "text/latex": "$\\displaystyle \\frac{a - 2 c_{1} + c_{2}}{3 b}$"
     },
     "metadata": {}
    },
    {
     "output_type": "stream",
     "name": "stdout",
     "text": "Optimal Quantity for firm 2:\n"
    },
    {
     "output_type": "display_data",
     "data": {
      "text/plain": "(a + c_1 - 2*c_2)/(3*b)",
      "text/latex": "$\\displaystyle \\frac{a + c_{1} - 2 c_{2}}{3 b}$"
     },
     "metadata": {}
    },
    {
     "output_type": "stream",
     "name": "stdout",
     "text": "Total Quantity in the economy:\n"
    },
    {
     "output_type": "display_data",
     "data": {
      "text/plain": "(2*a - c_1 - c_2)/(3*b)",
      "text/latex": "$\\displaystyle \\frac{2 a - c_{1} - c_{2}}{3 b}$"
     },
     "metadata": {}
    }
   ],
   "source": [
    "# Define a dictionary to solve for optimal quantities\n",
    "sol_dict_non = sm.solve((FOC1_non,FOC2_non), (q1, q2))\n",
    "\n",
    "# Optimal quantity for the firms\n",
    "print('Optimal Quantity for firm 1:')\n",
    "q1_optimal_non = sol_dict_non[q1]\n",
    "display(q1_optimal_non)\n",
    "\n",
    "print('Optimal Quantity for firm 2:')\n",
    "q2_optimal_non = sol_dict_non[q2]\n",
    "display(q2_optimal_non)\n",
    "\n",
    "print('Total Quantity in the economy:')\n",
    "q_total_non = (q1_optimal_non + q2_optimal_non)\n",
    "display(sm.simplify(q_total_non))"
   ]
  },
  {
   "cell_type": "markdown",
   "metadata": {},
   "source": [
    "When total quantity (Q) is found, we can apply this to the demand (price)"
   ]
  },
  {
   "cell_type": "code",
   "execution_count": 275,
   "metadata": {},
   "outputs": [
    {
     "output_type": "stream",
     "name": "stdout",
     "text": "Optimal demand (price) in Cournot-competition for two non-identical firms:\n"
    },
    {
     "output_type": "execute_result",
     "data": {
      "text/plain": "a/3 + c_1/3 + c_2/3",
      "text/latex": "$\\displaystyle \\frac{a}{3} + \\frac{c_{1}}{3} + \\frac{c_{2}}{3}$"
     },
     "metadata": {},
     "execution_count": 275
    }
   ],
   "source": [
    "print('Optimal demand (price) in Cournot-competition for two non-identical firms:')\n",
    "p_opt_non = a-b*q_total_non\n",
    "sm.simplify(p_opt_non)"
   ]
  },
  {
   "cell_type": "markdown",
   "metadata": {},
   "source": [
    "We find the profit for each non-identical firm and total profit in the economy by inserting optimal price, marginal cost and optimal quantity in the profit function"
   ]
  },
  {
   "cell_type": "code",
   "execution_count": 276,
   "metadata": {},
   "outputs": [
    {
     "output_type": "stream",
     "name": "stdout",
     "text": "Profit for firm 1:\n"
    },
    {
     "output_type": "display_data",
     "data": {
      "text/plain": "(a - 2*c_1 + c_2)**2/(9*b)",
      "text/latex": "$\\displaystyle \\frac{\\left(a - 2 c_{1} + c_{2}\\right)^{2}}{9 b}$"
     },
     "metadata": {}
    },
    {
     "output_type": "stream",
     "name": "stdout",
     "text": "Profit for firm 2:\n"
    },
    {
     "output_type": "display_data",
     "data": {
      "text/plain": "(a + c_1 - 2*c_2)**2/(9*b)",
      "text/latex": "$\\displaystyle \\frac{\\left(a + c_{1} - 2 c_{2}\\right)^{2}}{9 b}$"
     },
     "metadata": {}
    },
    {
     "output_type": "stream",
     "name": "stdout",
     "text": "Total profit in the economy for two non-identical firms:\n"
    },
    {
     "output_type": "display_data",
     "data": {
      "text/plain": "(2*a**2 - 2*a*c_1 - 2*a*c_2 + 5*c_1**2 - 8*c_1*c_2 + 5*c_2**2)/(9*b)",
      "text/latex": "$\\displaystyle \\frac{2 a^{2} - 2 a c_{1} - 2 a c_{2} + 5 c_{1}^{2} - 8 c_{1} c_{2} + 5 c_{2}^{2}}{9 b}$"
     },
     "metadata": {}
    }
   ],
   "source": [
    "# Profit for each firm is given by\n",
    "\n",
    "print('Profit for firm 1:')\n",
    "profit_1_non = (p_opt_non*q1_optimal_non)-c1*q1_optimal_non\n",
    "display(simplify(profit_1_non))\n",
    "\n",
    "print('Profit for firm 2:')\n",
    "profit_2_non = (p_opt_non*q2_optimal_non)-c2*q2_optimal_non\n",
    "display(sm.simplify(profit_2_non))\n",
    "\n",
    "# Total profit in the economy\n",
    "\n",
    "print('Total profit in the economy for two non-identical firms:')\n",
    "profit_total_non = profit_1_non + profit_2_non\n",
    "display(sm.simplify(profit_total_non))"
   ]
  },
  {
   "cell_type": "markdown",
   "metadata": {},
   "source": [
    "## Compare the two situations with figure-plots and Sliders to change the values.\n",
    "Here, you can play around with the sliders to observe the impact of the \n",
    "different parameters, given in the model"
   ]
  },
  {
   "cell_type": "code",
   "execution_count": 277,
   "metadata": {},
   "outputs": [
    {
     "output_type": "display_data",
     "data": {
      "text/plain": "interactive(children=(FloatSlider(value=5.0, description='a', max=10.0), FloatSlider(value=0.5, description='b…",
      "application/vnd.jupyter.widget-view+json": {
       "version_major": 2,
       "version_minor": 0,
       "model_id": "7c6158026c5a4b42a34972f95daf96ab"
      }
     },
     "metadata": {}
    }
   ],
   "source": [
    "# Equilibrium quantities and profits for 2 identical firms\n",
    "\n",
    "def f(a, b, c):\n",
    "    display(f'Optimal quantity for identical firms is {(a-c)/(3*b)}')\n",
    "    display(f'Profit for identical firms is {(a-c)**2/(9*b)}')\n",
    "interact(f, a=(0.0,10.0), b=(0.0,1.0), c=(0.0,10.0));"
   ]
  },
  {
   "cell_type": "code",
   "execution_count": 278,
   "metadata": {},
   "outputs": [
    {
     "output_type": "display_data",
     "data": {
      "text/plain": "interactive(children=(FloatSlider(value=5.0, description='a', max=10.0), FloatSlider(value=0.5, description='b…",
      "application/vnd.jupyter.widget-view+json": {
       "version_major": 2,
       "version_minor": 0,
       "model_id": "6306af65412d45c582f7e76ee2856e2f"
      }
     },
     "metadata": {}
    }
   ],
   "source": [
    "def f(a, b, c1, c2):\n",
    "    display(f'Optimal quantity non-identical firm 1 is {(a-2*c1+c2)/(3*b)}')\n",
    "    display(f'Optimal quantity non-identical firm 2 is {(a-2*c2+c1)/(3*b)}')\n",
    "    display(f'The profit given parameter values for non-identical firm 1 is {(((a-2*c1+c2))**2)/(9*b)}')\n",
    "    display(f'The profit given parameter values for non-identical firm 2 is {(((a-2*c2+c1))**2)/(9*b)}')\n",
    "interact(f, a=(0.0,10.0), b=(0.0,1.0), c1=(0.0,5.0), c2=(0.0,5.0));"
   ]
  },
  {
   "cell_type": "markdown",
   "metadata": {},
   "source": [
    "# conclusion"
   ]
  },
  {
   "cell_type": "markdown",
   "metadata": {},
   "source": [
    "### We have created an algorithm that can solve Cournot-competition problems and created sliders that show  results dependent on parameter values.\n",
    "### We find for all firms that the price is positvely correlated with a and negatively correlated with b. \n",
    "### Identical firms are affected negatively by higher prices.\n",
    "### Profits of non-identical firms are negatively affected if their own production costs increase, but profits are positively affected if competition production costs increase\n",
    "\n",
    "____________________________________\n",
    "\n",
    "## Comparing the market for Identical firms vs non-identical firms\n",
    "\n",
    "### Identical firms\n",
    "\n",
    "* Total quantity produced: \n",
    "$ Q= \\frac{2(a-c)}{3b}$\n",
    "* price: $ P = \\frac{a+2c}{3}$\n",
    "* Total profit: \n",
    "$ = \\frac{2(a-c)^2}{9b}$\n",
    "* Profit for each firm: $Profit=\\frac{(a-c)^2}{9b}$\n",
    "\n",
    "### non-identical firms\n",
    "* Total quantity produced: \n",
    "  $Q=\\frac{2a-c_1-c_2}{3b}$\n",
    "* Quantity firm 1: $Q_1=\\frac{a-2c_1+c_2}{3b}$\n",
    "* Quantity firm 2: $Q_2=\\frac{a+c_1-2c_2}{3b}$\n",
    "* price:\n",
    "  $P=\\frac{a+c_1+c_2}{3}$\n",
    "* Total profit:\n",
    "$ = \\frac{(2a-c_1-c_2)^2}{9b}$\n",
    "* profit firm 1: $ = \\frac{(a-2c_1+c_2)^2}{9b}$\n",
    "* Profit firm 2: $ = \\frac{(a+c_1-2c_2)^2}{9b}$\n",
    "\n",
    "The main difference on the two markets is given by the non-identical level of marginal cost, $c$\n",
    "\n",
    "For $c > c_1+c_2$:\n",
    "* Total produced quantity will be lower for identical firms. Vice Versa for non-identical firms.\n",
    "* The price of the product will be higher in the economy for identical firms. Vice Versa for non-identical firms\n",
    "* Ceterus Parabus profit will be lower for identical firms vs non-identical firms.\n",
    "\n",
    "\n"
   ]
  }
 ],
 "metadata": {
  "kernelspec": {
   "display_name": "Python 3",
   "language": "python",
   "name": "python3"
  },
  "language_info": {
   "codemirror_mode": {
    "name": "ipython",
    "version": 3
   },
   "file_extension": ".py",
   "mimetype": "text/x-python",
   "name": "python",
   "nbconvert_exporter": "python",
   "pygments_lexer": "ipython3",
   "version": "3.7.4-final"
  },
  "toc-autonumbering": true
 },
 "nbformat": 4,
 "nbformat_minor": 4
}